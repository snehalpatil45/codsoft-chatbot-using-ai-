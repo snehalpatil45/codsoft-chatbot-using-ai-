{
 "cells": [
  {
   "cell_type": "code",
   "execution_count": 2,
   "id": "e94d6fbb-dcec-48db-b723-580c72251398",
   "metadata": {},
   "outputs": [
    {
     "name": "stdout",
     "output_type": "stream",
     "text": [
      "Chatbot: Hi! I am your friendly chatbot. How can I help you today? (Type 'exit' to end the chat)\n"
     ]
    },
    {
     "name": "stdin",
     "output_type": "stream",
     "text": [
      "You:  hi\n"
     ]
    },
    {
     "name": "stdout",
     "output_type": "stream",
     "text": [
      "Chatbot: Hello! How can I assist you?\n"
     ]
    },
    {
     "name": "stdin",
     "output_type": "stream",
     "text": [
      "You:  exit\n"
     ]
    },
    {
     "name": "stdout",
     "output_type": "stream",
     "text": [
      "Chatbot: Goodbye! Have a great day!\n"
     ]
    }
   ],
   "source": [
    "# task 1)CHATBOT WITH RULE-BASED RESPONSES\n",
    "\n",
    "import re\n",
    "\n",
    "def chatbot():\n",
    "    print(\"Chatbot: Hi! I am your friendly chatbot. How can I help you today? (Type 'exit' to end the chat)\")\n",
    "\n",
    "    while True:\n",
    "        user_input = input(\"You: \").strip().lower()\n",
    "        \n",
    "        if user_input == \"exit\":\n",
    "            print(\"Chatbot: Goodbye! Have a great day!\")\n",
    "            break\n",
    "        \n",
    "        if re.search(r'hello|hi|hey', user_input):\n",
    "            print(\"Chatbot: Hello! How can I assist you?\")\n",
    "        elif re.search(r'how are you', user_input):\n",
    "            print(\"Chatbot: I'm just a program, but I'm doing great! How about you?\")\n",
    "        elif re.search(r'what is your name', user_input):\n",
    "            print(\"Chatbot: My name is Chatbot, your virtual assistant.\")\n",
    "        elif re.search(r'help|support', user_input):\n",
    "            print(\"Chatbot: Sure, I'm here to help! Can you tell me more about your issue?\")\n",
    "        elif re.search(r'time', user_input):\n",
    "            from datetime import datetime\n",
    "            current_time = datetime.now().strftime('%H:%M:%S')\n",
    "            print(f\"Chatbot: The current time is {current_time}.\")\n",
    "        elif re.search(r'joke', user_input):\n",
    "            print(\"Chatbot: Why don't scientists trust atoms? Because they make up everything!\")\n",
    "        else:\n",
    "            print(\"Chatbot: I'm sorry, I don't understand that. Could you please rephrase?\")\n",
    "    \n",
    "chatbot()"
   ]
  }
 ],
 "metadata": {
  "kernelspec": {
   "display_name": "Python [conda env:base] *",
   "language": "python",
   "name": "conda-base-py"
  },
  "language_info": {
   "codemirror_mode": {
    "name": "ipython",
    "version": 3
   },
   "file_extension": ".py",
   "mimetype": "text/x-python",
   "name": "python",
   "nbconvert_exporter": "python",
   "pygments_lexer": "ipython3",
   "version": "3.12.7"
  }
 },
 "nbformat": 4,
 "nbformat_minor": 5
}
